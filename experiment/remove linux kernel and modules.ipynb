{
 "cells": [
  {
   "cell_type": "markdown",
   "id": "218349fe-2981-4133-b01d-d23a1e9e44f1",
   "metadata": {},
   "source": [
    "# How to remove old linux kernel and related modules\n",
    "\n",
    "Linux Kernel and related files are stored in the following locations on your Linux distro:\n",
    "\n",
    "- `/boot` – Stores actual kernel and related file such system man and initrd images.\n",
    "- `/etc` or `/boot/grub` – Stores grub.conf file (most distro use /boot/grub these days).\n",
    "- `/lib/modules/KERNEL-VERSION/*` (`/lib/modules/$(uname -r)`)- Linux device drivers (modules)"
   ]
  },
  {
   "cell_type": "markdown",
   "id": "ff9ae263-83b9-4447-80ce-3895481a9146",
   "metadata": {},
   "source": [
    "## 1. How to remove the kernels installed with system package manager before\n",
    "\n",
    "If the Linux kernel is installed using a binary package system, such as apt-get, we can remove it with the same package manager.\n",
    "\n",
    "### Step 1, check the existed kernel and modules installed.\n",
    "\n",
    "The kernels and modules installed with system package manager can be checked with `dpkg --list` command."
   ]
  },
  {
   "cell_type": "code",
   "execution_count": 1,
   "id": "848d401f-4bce-476c-9a8d-0e87a28a75ed",
   "metadata": {
    "tags": []
   },
   "outputs": [
    {
     "name": "stdout",
     "output_type": "stream",
     "text": [
      "ii  \u001b[01;31m\u001b[Klinux-headers\u001b[m\u001b[K-5.19.0-32-generic            5.19.0-32.33~22.04.1                    amd64        Linux kernel headers for version 5.19.0 on 64 bit x86 SMP\n",
      "ii  \u001b[01;31m\u001b[Klinux-headers\u001b[m\u001b[K-5.19.0-41-generic            5.19.0-41.42~22.04.1                    amd64        Linux kernel headers for version 5.19.0 on 64 bit x86 SMP\n",
      "ii  \u001b[01;31m\u001b[Klinux-headers\u001b[m\u001b[K-generic-hwe-22.04            5.19.0.41.42~22.04.14                   amd64        Generic Linux kernel headers\n",
      "ii  \u001b[01;31m\u001b[Klinux-image\u001b[m\u001b[K-5.19.0-32-generic              5.19.0-32.33~22.04.1                    amd64        Signed kernel image generic\n",
      "ii  \u001b[01;31m\u001b[Klinux-image\u001b[m\u001b[K-5.19.0-41-generic              5.19.0-41.42~22.04.1                    amd64        Signed kernel image generic\n",
      "ii  \u001b[01;31m\u001b[Klinux-image\u001b[m\u001b[K-generic-hwe-22.04              5.19.0.41.42~22.04.14                   amd64        Generic Linux kernel image\n"
     ]
    }
   ],
   "source": [
    "dpkg --list | grep -E 'linux-headers|kernel-image|linux-image'"
   ]
  },
  {
   "cell_type": "markdown",
   "id": "c4a48e3c-b82b-4f7e-9da3-53426ef07931",
   "metadata": {},
   "source": [
    "As is showed in the output above, the oldest kernel version is '5.19.0-32', and that's what we're going to remove. Before that, we need to check out the other packages related with this version."
   ]
  },
  {
   "cell_type": "code",
   "execution_count": 2,
   "id": "ec714813-2d81-4272-b9e3-bf2ea8b37005",
   "metadata": {
    "tags": []
   },
   "outputs": [
    {
     "name": "stdout",
     "output_type": "stream",
     "text": [
      "ii  linux-headers-\u001b[01;31m\u001b[K5.19.0-32\u001b[m\u001b[K-generic            \u001b[01;31m\u001b[K5.19.0-32\u001b[m\u001b[K.33~22.04.1                    amd64        Linux kernel headers for version 5.19.0 on 64 bit x86 SMP\n",
      "ii  linux-hwe-5.19-headers-\u001b[01;31m\u001b[K5.19.0-32\u001b[m\u001b[K           \u001b[01;31m\u001b[K5.19.0-32\u001b[m\u001b[K.33~22.04.1                    all          Header files related to Linux kernel version 5.19.0\n",
      "ii  linux-image-\u001b[01;31m\u001b[K5.19.0-32\u001b[m\u001b[K-generic              \u001b[01;31m\u001b[K5.19.0-32\u001b[m\u001b[K.33~22.04.1                    amd64        Signed kernel image generic\n",
      "ii  linux-modules-\u001b[01;31m\u001b[K5.19.0-32\u001b[m\u001b[K-generic            \u001b[01;31m\u001b[K5.19.0-32\u001b[m\u001b[K.33~22.04.1                    amd64        Linux kernel extra modules for version 5.19.0 on 64 bit x86 SMP\n",
      "ii  linux-modules-extra-\u001b[01;31m\u001b[K5.19.0-32\u001b[m\u001b[K-generic      \u001b[01;31m\u001b[K5.19.0-32\u001b[m\u001b[K.33~22.04.1                    amd64        Linux kernel extra modules for version 5.19.0 on 64 bit x86 SMP\n"
     ]
    }
   ],
   "source": [
    "dpkg --list | grep -F '5.19.0-32'"
   ]
  },
  {
   "cell_type": "markdown",
   "id": "3a53423d-18d8-438b-9ba9-c00826a3c950",
   "metadata": {},
   "source": [
    "So, there are 5 packages that we need to remove.\n",
    "\n",
    "### Step 2, uninstall the packages"
   ]
  },
  {
   "cell_type": "code",
   "execution_count": 4,
   "id": "c68b746e-2e30-4138-a27d-f6c09d30c3e9",
   "metadata": {
    "scrolled": true,
    "tags": []
   },
   "outputs": [
    {
     "name": "stdout",
     "output_type": "stream",
     "text": [
      "Reading package lists... 0%Reading package lists... 100%Reading package lists... Done\n",
      "Building dependency tree... 0%Building dependency tree... 0%Building dependency tree... 50%Building dependency tree... 50%Building dependency tree... Done\n",
      "Reading state information... 0% Reading state information... 0%Reading state information... Done\n",
      "The following packages will be REMOVED:\n",
      "  linux-headers-5.19.0-32-generic* linux-hwe-5.19-headers-5.19.0-32*\n",
      "  linux-image-5.19.0-32-generic* linux-modules-5.19.0-32-generic*\n",
      "  linux-modules-extra-5.19.0-32-generic*\n",
      "0 upgraded, 0 newly installed, 5 to remove and 12 not upgraded.\n",
      "After this operation, 738 MB disk space will be freed.\n",
      "\n",
      "(Reading database ... 197922 files and directories currently installed.)\n",
      "Removing linux-headers-5.19.0-32-generic (5.19.0-32.33~22.04.1) ...\n",
      "\u001b7\u001b[24;0f\u001b[42m\u001b[30mProgress: [  0%]\u001b[49m\u001b[39m [..........................................................] \u001b8\u001b7\u001b[24;0f\u001b[42m\u001b[30mProgress: [  5%]\u001b[49m\u001b[39m [##........................................................] \u001b8\u001b7\u001b[24;0f\u001b[42m\u001b[30mProgress: [ 10%]\u001b[49m\u001b[39m [#####.....................................................] \u001b8\u001b7\u001b[24;0f\u001b[42m\u001b[30mProgress: [ 14%]\u001b[49m\u001b[39m [########..................................................] \u001b8\u001b7\u001b[24;0f\u001b[42m\u001b[30mProgress: [ 19%]\u001b[49m\u001b[39m [###########...............................................] \u001b8Removing linux-hwe-5.19-headers-5.19.0-32 (5.19.0-32.33~22.04.1) ...\n",
      "\u001b7\u001b[24;0f\u001b[42m\u001b[30mProgress: [ 24%]\u001b[49m\u001b[39m [#############.............................................] \u001b8\u001b7\u001b[24;0f\u001b[42m\u001b[30mProgress: [ 29%]\u001b[49m\u001b[39m [################..........................................] \u001b8\u001b7\u001b[24;0f\u001b[42m\u001b[30mProgress: [ 33%]\u001b[49m\u001b[39m [###################.......................................] \u001b8\u001b7\u001b[24;0f\u001b[42m\u001b[30mProgress: [ 38%]\u001b[49m\u001b[39m [######################....................................] \u001b8Removing linux-image-5.19.0-32-generic (5.19.0-32.33~22.04.1) ...\n",
      "\u001b7\u001b[24;0f\u001b[42m\u001b[30mProgress: [ 43%]\u001b[49m\u001b[39m [########################..................................] \u001b8/etc/kernel/prerm.d/dkms:\n",
      "dkms: removing: bcmwl 6.30.223.271+bdcom (5.19.0-32-generic) (x86_64)\n",
      "Module bcmwl-6.30.223.271+bdcom for kernel 5.19.0-32-generic (x86_64).\n",
      "Before uninstall, this module version was ACTIVE on this kernel.\n",
      "\n",
      "wl.ko:\n",
      " - Uninstallation\n",
      "   - Deleting from: /lib/modules/5.19.0-32-generic/updates/dkms/\n",
      " - Original module\n",
      "   - No original module was found for this module on this kernel.\n",
      "   - Use the dkms install command to reinstall any previous module version.\n",
      "\n",
      "depmod....\n",
      "\u001b7\u001b[24;0f\u001b[42m\u001b[30mProgress: [ 48%]\u001b[49m\u001b[39m [###########################...............................] \u001b8/etc/kernel/postrm.d/initramfs-tools:\n",
      "update-initramfs: Deleting /boot/initrd.img-5.19.0-32-generic\n",
      "/etc/kernel/postrm.d/zz-update-grub:\n",
      "Sourcing file `/etc/default/grub'\n",
      "Sourcing file `/etc/default/grub.d/init-select.cfg'\n",
      "Generating grub configuration file ...\n",
      "Found linux image: /boot/vmlinuz-6.2.0\n",
      "Found initrd image: /boot/initrd.img-6.2.0\n",
      "Found linux image: /boot/vmlinuz-5.19.0-41-generic\n",
      "Found initrd image: /boot/initrd.img-5.19.0-41-generic\n",
      "Memtest86+ needs a 16-bit boot, that is not available on EFI, exiting\n",
      "Warning: os-prober will not be executed to detect other bootable partitions.\n",
      "Systems on them will not be added to the GRUB boot configuration.\n",
      "Check GRUB_DISABLE_OS_PROBER documentation entry.\n",
      "Adding boot menu entry for UEFI Firmware Settings ...\n",
      "done\n",
      "\u001b7\u001b[24;0f\u001b[42m\u001b[30mProgress: [ 52%]\u001b[49m\u001b[39m [##############################............................] \u001b8Removing linux-modules-extra-5.19.0-32-generic (5.19.0-32.33~22.04.1) ...\n",
      "\u001b7\u001b[24;0f\u001b[42m\u001b[30mProgress: [ 57%]\u001b[49m\u001b[39m [#################################.........................] \u001b8\u001b7\u001b[24;0f\u001b[42m\u001b[30mProgress: [ 62%]\u001b[49m\u001b[39m [###################################.......................] \u001b8\u001b7\u001b[24;0f\u001b[42m\u001b[30mProgress: [ 67%]\u001b[49m\u001b[39m [######################################....................] \u001b8Removing linux-modules-5.19.0-32-generic (5.19.0-32.33~22.04.1) ...\n",
      "(Reading database ... 161568 files and directories currently installed.)################.................] \u001b8\u001b7\u001b[24;0f\u001b[42m\u001b[30mProgress: [ 76%]\u001b[49m\u001b[39m [############################################..............] \u001b8\u001b7\u001b[24;0f\u001b[42m\u001b[30mProgress: [ 81%]\u001b[49m\u001b[39m [##############################################............] \u001b8(Reading database ... \n",
      "Purging configuration files for linux-modules-5.19.0-32-generic (5.19.0-32.33~22.04.1) ...\n",
      "\u001b[1mdpkg:\u001b[0m \u001b[1;33mwarning:\u001b[0m while removing linux-modules-5.19.0-32-generic, directory '/lib/modules/5.19.0-32-generic' not empty so not removed\n",
      "\u001b7\u001b[24;0f\u001b[42m\u001b[30mProgress: [ 86%]\u001b[49m\u001b[39m [#################################################.........] \u001b8Purging configuration files for linux-modules-extra-5.19.0-32-generic (5.19.0-32.33~22.04.1) ...\n",
      "\u001b7\u001b[24;0f\u001b[42m\u001b[30mProgress: [ 90%]\u001b[49m\u001b[39m [####################################################......] \u001b8Purging configuration files for linux-image-5.19.0-32-generic (5.19.0-32.33~22.04.1) ...\n",
      "\u001b7\u001b[24;0f\u001b[42m\u001b[30mProgress: [ 95%]\u001b[49m\u001b[39m [#######################################################...] \u001b8\n",
      "\u001b7\u001b[0;24r\u001b8\u001b[1A\u001b[J\n"
     ]
    }
   ],
   "source": [
    "sudo apt purge -y linux-headers-5.19.0-32-generic \\\n",
    "                  linux-hwe-5.19-headers-5.19.0-32 \\\n",
    "                  linux-image-5.19.0-32-generic \\\n",
    "                  linux-modules-5.19.0-32-generic \\\n",
    "                  linux-modules-extra-5.19.0-32-generic"
   ]
  },
  {
   "cell_type": "markdown",
   "id": "fb18cd5f-aafc-4d70-8373-1d8858187420",
   "metadata": {},
   "source": [
    "### Step 3, check uninstallation result"
   ]
  },
  {
   "cell_type": "code",
   "execution_count": 9,
   "id": "df95baff-33fd-4e4c-a33e-187f1cd34078",
   "metadata": {
    "tags": []
   },
   "outputs": [
    {
     "ename": "",
     "evalue": "1",
     "output_type": "error",
     "traceback": []
    }
   ],
   "source": [
    "dpkg --list | grep -F '5.19.0-32'"
   ]
  },
  {
   "cell_type": "code",
   "execution_count": 15,
   "id": "bd509c0f-9654-4fa5-ad7a-59fbed7f3802",
   "metadata": {
    "tags": []
   },
   "outputs": [
    {
     "name": "stdout",
     "output_type": "stream",
     "text": [
      "ls: cannot access '/lib/modules/*5.19.0-32': No such file or directory\n"
     ]
    },
    {
     "ename": "",
     "evalue": "2",
     "output_type": "error",
     "traceback": []
    }
   ],
   "source": [
    "ls -1 /lib/modules/*5.19.0-32"
   ]
  },
  {
   "cell_type": "code",
   "execution_count": 17,
   "id": "7321da8e-8baf-49d9-b280-130de29c9538",
   "metadata": {
    "tags": []
   },
   "outputs": [
    {
     "name": "stdout",
     "output_type": "stream",
     "text": [
      "ls: cannot access '/boot/*5.19.0-32': No such file or directory\n"
     ]
    },
    {
     "ename": "",
     "evalue": "2",
     "output_type": "error",
     "traceback": []
    }
   ],
   "source": [
    "ls -1 /boot/*5.19.0-32"
   ]
  },
  {
   "cell_type": "code",
   "execution_count": 14,
   "id": "a48033ef-2aa6-4c6f-9306-536b3612ac74",
   "metadata": {
    "tags": []
   },
   "outputs": [
    {
     "ename": "",
     "evalue": "1",
     "output_type": "error",
     "traceback": []
    }
   ],
   "source": [
    "grep '5.19.0-32' /boot/grub/grub.cfg"
   ]
  },
  {
   "cell_type": "markdown",
   "id": "a83d9362-71a3-47c1-9c4f-341e6d9b9690",
   "metadata": {},
   "source": [
    "The command results shows that the `5.19.0-32` version kernel is purged."
   ]
  },
  {
   "cell_type": "markdown",
   "id": "3332e275-2026-44b2-9593-0e4cab21d221",
   "metadata": {},
   "source": [
    "## 2. How to remove manually built and installed kernel\n",
    "\n",
    "We can't use package manager to remove the kernels and modules that were manually built and installed. So, we need to remove the file from `/boot/*<kernel version>`, `/lib/modules/<kernel version>`, and update grub configuration.\n",
    "\n",
    "On the following steps, we are going to remove kernel '6.2.0' that's build by myself before."
   ]
  },
  {
   "cell_type": "markdown",
   "id": "87a3365a-0e97-447b-9825-f3a97d136e03",
   "metadata": {},
   "source": [
    "### Sep 1, remove kernel modules\n",
    "\n",
    "In ubuntu 22.04, the `.ko` modules are installed in /lib/modules/<your_kernel>. For version 6.2.0, it would be `/lib/modules/6.2.0`."
   ]
  },
  {
   "cell_type": "code",
   "execution_count": 19,
   "id": "4b1ccd80-6089-47ba-b834-bf4aa55c7568",
   "metadata": {
    "tags": []
   },
   "outputs": [
    {
     "name": "stdout",
     "output_type": "stream",
     "text": [
      "\u001b[0m\u001b[01;34m5.19.0-41-generic\u001b[0m\n",
      "\u001b[01;34m6.2.0\u001b[0m\n"
     ]
    }
   ],
   "source": [
    "ls -1A /lib/modules"
   ]
  },
  {
   "cell_type": "code",
   "execution_count": 23,
   "id": "37c89993-2e0c-4d6f-9d2c-66d6ee1d4469",
   "metadata": {
    "tags": []
   },
   "outputs": [],
   "source": [
    "sudo rm -rf /lib/modules/6.2.0"
   ]
  },
  {
   "cell_type": "markdown",
   "id": "1b1d82ef-1ea8-4115-9a5c-9b97379674dc",
   "metadata": {},
   "source": [
    "### Step 2, remove the kernel image\n",
    "\n",
    "In ubuntu 22.04, the images reside within `/boot` directory."
   ]
  },
  {
   "cell_type": "code",
   "execution_count": 21,
   "id": "916c0ae5-bf17-4622-b85d-6953df431dc0",
   "metadata": {
    "tags": []
   },
   "outputs": [
    {
     "name": "stdout",
     "output_type": "stream",
     "text": [
      "total 633328\n",
      "-rw-r--r-- 1 root root    270012 Apr 18 23:38 config-5.19.0-41-generic\n",
      "-rw-r--r-- 1 root root    275583 May 11 00:32 config-6.2.0\n",
      "drwx------ 3 root root      4096 Jan  1  1970 \u001b[0m\u001b[01;34mefi\u001b[0m\n",
      "drwxr-xr-x 1 root root       126 May 11 19:47 \u001b[01;34mgrub\u001b[0m\n",
      "lrwxrwxrwx 1 root root        16 May 11 00:32 \u001b[01;36minitrd.img\u001b[0m -> initrd.img-6.2.0\n",
      "-rw-r--r-- 1 root root  73636557 Apr 29 14:56 initrd.img-5.19.0-41-generic\n",
      "-rw-r--r-- 1 root root 535160589 May 11 00:36 initrd.img-6.2.0\n",
      "lrwxrwxrwx 1 root root        28 May 11 00:32 \u001b[01;36minitrd.img.old\u001b[0m -> initrd.img-5.19.0-41-generic\n",
      "-rw-r--r-- 1 root root    182800 Feb  7  2022 memtest86+.bin\n",
      "-rw-r--r-- 1 root root    184476 Feb  7  2022 memtest86+.elf\n",
      "-rw-r--r-- 1 root root    184980 Feb  7  2022 memtest86+_multiboot.bin\n",
      "-rw------- 1 root root   6434470 Apr 18 23:38 System.map-5.19.0-41-generic\n",
      "-rw-r--r-- 1 root root   7795336 May 11 00:32 System.map-6.2.0\n",
      "lrwxrwxrwx 1 root root        13 May 11 00:32 \u001b[01;36mvmlinuz\u001b[0m -> vmlinuz-6.2.0\n",
      "-rw------- 1 root root  12196552 Apr 18 23:26 vmlinuz-5.19.0-41-generic\n",
      "-rw-r--r-- 1 root root  12162144 May 11 00:32 vmlinuz-6.2.0\n",
      "lrwxrwxrwx 1 root root        25 Apr 29 14:55 \u001b[01;36mvmlinuz.old\u001b[0m -> vmlinuz-5.19.0-41-generic\n"
     ]
    }
   ],
   "source": [
    "ls -lA /boot/"
   ]
  },
  {
   "cell_type": "code",
   "execution_count": 24,
   "id": "7a78dc2e-3b3d-4649-80af-e1567232a299",
   "metadata": {
    "tags": []
   },
   "outputs": [],
   "source": [
    "sudo rm -rf /boot/*6.2.0*"
   ]
  },
  {
   "cell_type": "markdown",
   "id": "950e2bd7-ca00-4a34-9aa6-04b16c4e3932",
   "metadata": {},
   "source": [
    "### Step 3, update grub configuration."
   ]
  },
  {
   "cell_type": "code",
   "execution_count": 25,
   "id": "43f562c2-8211-41f9-a081-0d92b874b6b3",
   "metadata": {
    "tags": []
   },
   "outputs": [
    {
     "name": "stdout",
     "output_type": "stream",
     "text": [
      "Sourcing file `/etc/default/grub'\n",
      "Sourcing file `/etc/default/grub.d/init-select.cfg'\n",
      "Generating grub configuration file ...\n",
      "Found linux image: /boot/vmlinuz-5.19.0-41-generic\n",
      "Found initrd image: /boot/initrd.img-5.19.0-41-generic\n",
      "Memtest86+ needs a 16-bit boot, that is not available on EFI, exiting\n",
      "Warning: os-prober will not be executed to detect other bootable partitions.\n",
      "Systems on them will not be added to the GRUB boot configuration.\n",
      "Check GRUB_DISABLE_OS_PROBER documentation entry.\n",
      "Adding boot menu entry for UEFI Firmware Settings ...\n",
      "done\n"
     ]
    }
   ],
   "source": [
    "sudo grub-mkconfig -o /boot/grub/grub.cfg"
   ]
  },
  {
   "cell_type": "code",
   "execution_count": 1,
   "id": "3cafec26-2190-4f0d-b1a9-48f712739d85",
   "metadata": {
    "tags": []
   },
   "outputs": [
    {
     "name": "stdout",
     "output_type": "stream",
     "text": [
      "total 90940\n",
      "-rw-r--r-- 1 root root   270012 Apr 18 23:38 config-5.19.0-41-generic\n",
      "drwx------ 3 root root     4096 Jan  1  1970 \u001b[0m\u001b[01;34mefi\u001b[0m\n",
      "drwxr-xr-x 1 root root      126 May 11 20:22 \u001b[01;34mgrub\u001b[0m\n",
      "lrwxrwxrwx 1 root root       16 May 11 00:32 \u001b[40;31;01minitrd.img\u001b[0m -> \u001b[40;31;01minitrd.img-6.2.0\u001b[0m\n",
      "-rw-r--r-- 1 root root 73636557 Apr 29 14:56 initrd.img-5.19.0-41-generic\n",
      "lrwxrwxrwx 1 root root       28 May 11 00:32 \u001b[01;36minitrd.img.old\u001b[0m -> initrd.img-5.19.0-41-generic\n",
      "-rw-r--r-- 1 root root   182800 Feb  7  2022 memtest86+.bin\n",
      "-rw-r--r-- 1 root root   184476 Feb  7  2022 memtest86+.elf\n",
      "-rw-r--r-- 1 root root   184980 Feb  7  2022 memtest86+_multiboot.bin\n",
      "-rw------- 1 root root  6434470 Apr 18 23:38 System.map-5.19.0-41-generic\n",
      "lrwxrwxrwx 1 root root       13 May 11 00:32 \u001b[40;31;01mvmlinuz\u001b[0m -> \u001b[40;31;01mvmlinuz-6.2.0\u001b[0m\n",
      "-rw------- 1 root root 12196552 Apr 18 23:26 vmlinuz-5.19.0-41-generic\n",
      "lrwxrwxrwx 1 root root       25 Apr 29 14:55 \u001b[01;36mvmlinuz.old\u001b[0m -> vmlinuz-5.19.0-41-generic\n"
     ]
    }
   ],
   "source": [
    "ls -l /boot/"
   ]
  },
  {
   "cell_type": "markdown",
   "id": "5ce184a8-c036-4c43-964e-8984ad873349",
   "metadata": {},
   "source": [
    "There are broken soft link showed above and we are going to fix them."
   ]
  },
  {
   "cell_type": "code",
   "execution_count": 2,
   "id": "d4bc44fc-cb22-4eb2-a56a-cced4369dcae",
   "metadata": {
    "tags": []
   },
   "outputs": [],
   "source": [
    "sudo rm /boot/initrd.img && sudo ln -s /boot/initrd.img-5.19.0-41-generic /boot/initrd.img"
   ]
  },
  {
   "cell_type": "code",
   "execution_count": 3,
   "id": "bd6e823f-ea64-4ebf-8328-99454657af53",
   "metadata": {
    "tags": []
   },
   "outputs": [],
   "source": [
    "sudo rm /boot/vmlinuz && sudo ln -s /boot/vmlinuz-5.19.0-41-generic /boot/vmlinuz"
   ]
  },
  {
   "cell_type": "code",
   "execution_count": 5,
   "id": "16b87054-a51e-41bc-bc60-cb0ea775b8ce",
   "metadata": {
    "tags": []
   },
   "outputs": [
    {
     "name": "stdout",
     "output_type": "stream",
     "text": [
      "total 90940\n",
      "-rw-r--r-- 1 root root   270012 Apr 18 23:38 config-5.19.0-41-generic\n",
      "drwx------ 3 root root     4096 Jan  1  1970 \u001b[0m\u001b[01;34mefi\u001b[0m\n",
      "drwxr-xr-x 1 root root      126 May 11 20:22 \u001b[01;34mgrub\u001b[0m\n",
      "lrwxrwxrwx 1 root root       34 May 11 20:27 \u001b[01;36minitrd.img\u001b[0m -> /boot/initrd.img-5.19.0-41-generic\n",
      "-rw-r--r-- 1 root root 73636557 Apr 29 14:56 initrd.img-5.19.0-41-generic\n",
      "lrwxrwxrwx 1 root root       28 May 11 00:32 \u001b[01;36minitrd.img.old\u001b[0m -> initrd.img-5.19.0-41-generic\n",
      "-rw-r--r-- 1 root root   182800 Feb  7  2022 memtest86+.bin\n",
      "-rw-r--r-- 1 root root   184476 Feb  7  2022 memtest86+.elf\n",
      "-rw-r--r-- 1 root root   184980 Feb  7  2022 memtest86+_multiboot.bin\n",
      "-rw------- 1 root root  6434470 Apr 18 23:38 System.map-5.19.0-41-generic\n",
      "lrwxrwxrwx 1 root root       31 May 11 20:28 \u001b[01;36mvmlinuz\u001b[0m -> /boot/vmlinuz-5.19.0-41-generic\n",
      "-rw------- 1 root root 12196552 Apr 18 23:26 vmlinuz-5.19.0-41-generic\n",
      "lrwxrwxrwx 1 root root       25 Apr 29 14:55 \u001b[01;36mvmlinuz.old\u001b[0m -> vmlinuz-5.19.0-41-generic\n"
     ]
    }
   ],
   "source": [
    "ls -l /boot/"
   ]
  }
 ],
 "metadata": {
  "kernelspec": {
   "display_name": "Bash",
   "language": "bash",
   "name": "bash"
  },
  "language_info": {
   "codemirror_mode": "shell",
   "file_extension": ".sh",
   "mimetype": "text/x-sh",
   "name": "bash"
  }
 },
 "nbformat": 4,
 "nbformat_minor": 5
}
