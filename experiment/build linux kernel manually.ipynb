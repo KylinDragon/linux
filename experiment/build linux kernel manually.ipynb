{
 "cells": [
  {
   "cell_type": "markdown",
   "id": "9a0def77-6902-494c-bdef-4f2aa3df8ac6",
   "metadata": {},
   "source": [
    "## Install additional packages before building a kernel."
   ]
  },
  {
   "cell_type": "code",
   "execution_count": null,
   "id": "1f05b415-51c4-45cb-8c23-b537aaf13128",
   "metadata": {
    "scrolled": true,
    "tags": []
   },
   "outputs": [],
   "source": [
    "sudo apt-get install -y --no-install-recommends fakeroot \\\n",
    "                                                build-essential \\\n",
    "                                                ncurses-dev \\\n",
    "                                                xz-utils \\\n",
    "                                                libssl-dev \\\n",
    "                                                bc \\\n",
    "                                                flex \\\n",
    "                                                libelf-dev \\\n",
    "                                                bison"
   ]
  },
  {
   "cell_type": "markdown",
   "id": "8638ccea-fbf8-454d-8a83-884075c4f78e",
   "metadata": {},
   "source": [
    "## Configure Kernel\n",
    "\n",
    "We can copy the existing configuration file from current system to simplify the work. The current system kernel configuration  usually locates at `/boot//boot/config-<kernel-release>`. After that, to make changes to the configuration file, run the `make` command."
   ]
  },
  {
   "cell_type": "code",
   "execution_count": 4,
   "id": "cc80ea63-2ea0-4057-b388-bfa5124d63e1",
   "metadata": {
    "tags": []
   },
   "outputs": [
    {
     "name": "stdout",
     "output_type": "stream",
     "text": [
      "5.19.0-41-generic\n"
     ]
    }
   ],
   "source": [
    "# check kernel release\n",
    "uname -r"
   ]
  },
  {
   "cell_type": "code",
   "execution_count": 5,
   "id": "9cb89cae-22b5-4414-8891-1e244d71ac76",
   "metadata": {
    "tags": []
   },
   "outputs": [
    {
     "name": "stdout",
     "output_type": "stream",
     "text": [
      "'/boot/config-5.19.0-41-generic' -> '.config'\n"
     ]
    }
   ],
   "source": [
    "cp -v /boot/config-$(uname -r) .config"
   ]
  },
  {
   "cell_type": "markdown",
   "id": "798e2294-dfc1-49ae-9dad-a46ea77cdec8",
   "metadata": {},
   "source": [
    "To make changes to the configuration file, run the make command:"
   ]
  },
  {
   "cell_type": "code",
   "execution_count": null,
   "id": "a0731927-d292-46a4-8526-b03c3042a066",
   "metadata": {
    "scrolled": true,
    "tags": []
   },
   "outputs": [],
   "source": [
    "# perform this command in system shell terminal\n",
    "make menuconfig"
   ]
  },
  {
   "cell_type": "markdown",
   "id": "e2be4d7c-0e40-4656-a40c-13e4dd39cf10",
   "metadata": {},
   "source": [
    "Alternatively, we can run `make oldconfig` to do the same things."
   ]
  },
  {
   "cell_type": "markdown",
   "id": "cfb91a15-1bbd-4be6-ac5c-418bf360f6a4",
   "metadata": {},
   "source": [
    "## Build the kernel\n",
    "\n",
    "Start building the kernel by running the following command:"
   ]
  },
  {
   "cell_type": "code",
   "execution_count": null,
   "id": "b71e2ca8-d695-4748-8c24-770815d7f66e",
   "metadata": {
    "scrolled": true,
    "tags": []
   },
   "outputs": [],
   "source": [
    "make"
   ]
  },
  {
   "cell_type": "markdown",
   "id": "0d71a7fe-be20-4f65-961b-1f8777cce733",
   "metadata": {},
   "source": [
    "and then, errors happened:  \n",
    ">  CC      kernel/rseq.o  \n",
    ">  CC      kernel/watch_queue.o  \n",
    ">  AR      kernel/built-in.a  \n",
    ">  CHK     kernel/kheaders_data.tar.xz  \n",
    ">  GEN     kernel/kheaders_data.tar.xz  \n",
    ">  CC [M]  kernel/kheaders.o  \n",
    ">  CC      certs/system_keyring.o  \n",
    "> make[2]: *** No rule to make target 'debian/canonical-certs.pem', needed by 'certs/x509_certificate_list'.  Stop.  \n",
    "> make[1]: *** [scripts/Makefile.build:504: certs] Error 2  \n",
    "> make: *** [Makefile:2021: .] Error 2 \n",
    "\n",
    "\n",
    "If you are compiling the kernel on Ubuntu, you may receive the following error that interrupts the building process: `No rule to make target 'debian/canonical-certs.pem`, disable the conflicting security certificates by executing the two commands below:"
   ]
  },
  {
   "cell_type": "code",
   "execution_count": 3,
   "id": "06fea5b1-9cf2-4c47-bc54-a1009f96017b",
   "metadata": {
    "tags": []
   },
   "outputs": [],
   "source": [
    "scripts/config --disable SYSTEM_TRUSTED_KEYS\n",
    "scripts/config --disable SYSTEM_REVOCATION_KEYS"
   ]
  },
  {
   "cell_type": "markdown",
   "id": "61de73b5-5d27-468b-8151-f8b9bfe64769",
   "metadata": {},
   "source": [
    "Start the building process again with `make`, and press `Enter` repeatedly to confirm the default options for the generation of new certificates."
   ]
  },
  {
   "cell_type": "code",
   "execution_count": null,
   "id": "cb62d54e-92e9-496a-a2a4-259ba328065b",
   "metadata": {},
   "outputs": [],
   "source": [
    "# please DO NOT execute the follow command in jupyter notebook if not \n",
    "# necessary, because it will consume large amount of memory and slow \n",
    "# down the system.\n",
    "# Do it with the system shell terminal to have better performance.\n",
    "make -j8"
   ]
  },
  {
   "cell_type": "markdown",
   "id": "26ff9a97-747d-4853-b1bc-80ad2ffacc9f",
   "metadata": {},
   "source": [
    "## Install the required modules"
   ]
  },
  {
   "cell_type": "code",
   "execution_count": null,
   "id": "2b858286-2fba-4da6-a361-589101398a84",
   "metadata": {
    "scrolled": true,
    "tags": []
   },
   "outputs": [],
   "source": [
    "# please DO NOT execute the follow command in jupyter notebook,\n",
    "# it will consume large amount of memory and slow down the system.\n",
    "# Do it with the system shell terminal instead would be much better.\n",
    "sudo make -j8 modules_install"
   ]
  },
  {
   "cell_type": "markdown",
   "id": "fb3ecf45-e474-4e65-a0ea-b4b689c66060",
   "metadata": {},
   "source": [
    "Simplified output:\n",
    ">  \\[...\\]\n",
    ">  SIGN    /lib/modules/6.2.0/kernel/net/qrtr/qrtr-smd.ko  \n",
    ">  INSTALL /lib/modules/6.2.0/kernel/net/qrtr/qrtr-tun.ko  \n",
    ">  SIGN    /lib/modules/6.2.0/kernel/net/qrtr/qrtr-tun.ko  \n",
    ">  INSTALL /lib/modules/6.2.0/kernel/net/qrtr/qrtr-mhi.ko  \n",
    ">  SIGN    /lib/modules/6.2.0/kernel/net/qrtr/qrtr-mhi.ko  \n",
    ">  DEPMOD  /lib/modules/6.2.0  "
   ]
  },
  {
   "cell_type": "markdown",
   "id": "e8e00246-14d2-452e-a1aa-e95e37275cdb",
   "metadata": {},
   "source": [
    "## Install the kernel"
   ]
  },
  {
   "cell_type": "code",
   "execution_count": 5,
   "id": "08dcf6fb-45a4-440c-be93-61ea8b200640",
   "metadata": {
    "scrolled": true,
    "tags": []
   },
   "outputs": [
    {
     "name": "stdout",
     "output_type": "stream",
     "text": [
      "  INSTALL /boot\n",
      "run-parts: executing /etc/kernel/postinst.d/dkms 6.2.0 /boot/vmlinuz-6.2.0\n",
      " * dkms: running auto installation service for kernel 6.2.0       \u001b[80G \n",
      "Kernel preparation unnecessary for this kernel. Skipping...\n",
      "applying patch 0002-Makefile.patch...patching file Makefile\n",
      "Hunk #1 succeeded at 113 with fuzz 1.\n",
      "Hunk #2 succeeded at 132 with fuzz 2 (offset 1 line).\n",
      "\n",
      "applying patch 0003-Make-up-for-missing-init_MUTEX.patch...patching file src/wl/sys/wl_linux.c\n",
      "Hunk #1 succeeded at 111 with fuzz 2 (offset 12 lines).\n",
      "\n",
      "applying patch 0010-change-the-network-interface-name-from-eth-to-wlan.patch...patching file src/wl/sys/wl_linux.c\n",
      "Hunk #1 succeeded at 221 (offset -14 lines).\n",
      "\n",
      "applying patch 0013-gcc.patch...patching file Makefile\n",
      "\n",
      "applying patch 0019-broadcom-sta-6.30.223.248-3.18-null-pointer-fix.patch...patching file src/wl/sys/wl_linux.c\n",
      "Hunk #1 succeeded at 2169 (offset 12 lines).\n",
      "\n",
      "applying patch 0020-add-support-for-linux-4.3.patch...patching file src/shared/linux_osl.c\n",
      "\n",
      "applying patch 0021-add-support-for-Linux-4.7.patch...patching file src/wl/sys/wl_cfg80211_hybrid.c\n",
      "\n",
      "applying patch 0022-add-support-for-Linux-4.8.patch...patching file src/wl/sys/wl_cfg80211_hybrid.c\n",
      "Hunk #1 succeeded at 2391 (offset 3 lines).\n",
      "Hunk #2 succeeded at 2501 (offset 3 lines).\n",
      "Hunk #3 succeeded at 2933 (offset 9 lines).\n",
      "\n",
      "applying patch 0023-add-support-for-Linux-4.11.patch...patching file src/include/linuxver.h\n",
      "patching file src/wl/sys/wl_linux.c\n",
      "Hunk #1 succeeded at 2919 (offset 4 lines).\n",
      "\n",
      "applying patch 0024-add-support-for-Linux-4.12.patch...patching file src/wl/sys/wl_cfg80211_hybrid.c\n",
      "Hunk #1 succeeded at 55 (offset 5 lines).\n",
      "Hunk #2 succeeded at 472 (offset 5 lines).\n",
      "Hunk #3 succeeded at 2371 (offset 5 lines).\n",
      "Hunk #4 succeeded at 2388 (offset 5 lines).\n",
      "\n",
      "applying patch 0025-add-support-for-Linux-4.14.patch...patching file src/shared/linux_osl.c\n",
      "Hunk #1 succeeded at 1080 (offset 4 lines).\n",
      "\n",
      "applying patch 0026-add-support-for-Linux-4.15.patch...patching file src/wl/sys/wl_linux.c\n",
      "Hunk #2 succeeded at 2306 (offset 4 lines).\n",
      "Hunk #3 succeeded at 2368 (offset 4 lines).\n",
      "\n",
      "applying patch 0027-add-support-for-linux-5.1.patch...patching file src/include/linuxver.h\n",
      "Hunk #1 succeeded at 595 (offset 4 lines).\n",
      "\n",
      "applying patch 0028-add-support-for-linux-5.6.patch...patching file src/shared/linux_osl.c\n",
      "Hunk #1 succeeded at 946 (offset 4 lines).\n",
      "patching file src/wl/sys/wl_linux.c\n",
      "Hunk #1 succeeded at 590 (offset 8 lines).\n",
      "Hunk #2 succeeded at 784 (offset 8 lines).\n",
      "Hunk #3 succeeded at 3365 (offset 22 lines).\n",
      "\n",
      "applying patch 0029-Update-for-set_fs-removal-in-Linux-5.10.patch...patching file src/wl/sys/wl_cfg80211_hybrid.c\n",
      "patching file src/wl/sys/wl_iw.c\n",
      "patching file src/wl/sys/wl_linux.c\n",
      "patching file src/wl/sys/wl_linux.h\n",
      "\n",
      "applying patch 0040-add-support-for-linux-5.18.patch...patching file src/shared/linux_osl.c\n",
      "patching file src/wl/sys/wl_linux.c\n",
      "\n",
      "applying patch 0041-dev-addr-access.patch...patching file src/wl/sys/wl_linux.c\n",
      "Hunk #1 succeeded at 646 (offset 16 lines).\n",
      "Hunk #2 succeeded at 1855 (offset 50 lines).\n",
      "Hunk #3 succeeded at 3036 (offset 64 lines).\n",
      "Hunk #4 succeeded at 3321 (offset 64 lines).\n",
      "Hunk #5 succeeded at 3382 (offset 64 lines).\n",
      "\n",
      "applying patch 0042-add-support-for-linux-6.x.patch...patching file src/wl/sys/wl_cfg80211_hybrid.c\n",
      "\n",
      "\n",
      "Building module:\n",
      "cleaning build area...\n",
      "make -j8 KERNELRELEASE=6.2.0 -C /lib/modules/6.2.0/build M=/var/lib/dkms/bcmwl/6.30.223.271+bdcom/build...\n",
      "Signing module:\n",
      " - /var/lib/dkms/bcmwl/6.30.223.271+bdcom/6.2.0/x86_64/module/wl.ko\n",
      "Secure Boot not enabled on this system.\n",
      "cleaning build area...\n",
      "\n",
      "wl.ko:\n",
      "Running module version sanity check.\n",
      " - Original module\n",
      "   - No original module exists within this kernel\n",
      " - Installation\n",
      "   - Installing to /lib/modules/6.2.0/updates/dkms/\n",
      "\n",
      "depmod...\n",
      "\u001b[74G[ OK ]\n",
      "run-parts: executing /etc/kernel/postinst.d/initramfs-tools 6.2.0 /boot/vmlinuz-6.2.0\n",
      "update-initramfs: Generating /boot/initrd.img-6.2.0\n",
      "I: The initramfs will attempt to resume from /dev/sda2\n",
      "I: (UUID=3bef089a-1f68-482e-9ba3-9c51d70e3d07)\n",
      "I: Set the RESUME variable to override this.\n",
      "run-parts: executing /etc/kernel/postinst.d/unattended-upgrades 6.2.0 /boot/vmlinuz-6.2.0\n",
      "run-parts: executing /etc/kernel/postinst.d/update-notifier 6.2.0 /boot/vmlinuz-6.2.0\n",
      "run-parts: executing /etc/kernel/postinst.d/xx-update-initrd-links 6.2.0 /boot/vmlinuz-6.2.0\n",
      "I: /boot/initrd.img.old is now a symlink to initrd.img-5.19.0-41-generic\n",
      "I: /boot/initrd.img is now a symlink to initrd.img-6.2.0\n",
      "run-parts: executing /etc/kernel/postinst.d/zz-shim 6.2.0 /boot/vmlinuz-6.2.0\n",
      "run-parts: executing /etc/kernel/postinst.d/zz-update-grub 6.2.0 /boot/vmlinuz-6.2.0\n",
      "Sourcing file `/etc/default/grub'\n",
      "Sourcing file `/etc/default/grub.d/init-select.cfg'\n",
      "Generating grub configuration file ...\n",
      "Found linux image: /boot/vmlinuz-6.2.0\n",
      "Found initrd image: /boot/initrd.img-6.2.0\n",
      "Found linux image: /boot/vmlinuz-5.19.0-41-generic\n",
      "Found initrd image: /boot/initrd.img-5.19.0-41-generic\n",
      "Found linux image: /boot/vmlinuz-5.19.0-32-generic\n",
      "Found initrd image: /boot/initrd.img-5.19.0-32-generic\n",
      "Memtest86+ needs a 16-bit boot, that is not available on EFI, exiting\n",
      "Warning: os-prober will not be executed to detect other bootable partitions.\n",
      "Systems on them will not be added to the GRUB boot configuration.\n",
      "Check GRUB_DISABLE_OS_PROBER documentation entry.\n",
      "Adding boot menu entry for UEFI Firmware Settings ...\n",
      "done\n"
     ]
    }
   ],
   "source": [
    "sudo make install"
   ]
  },
  {
   "cell_type": "markdown",
   "id": "1a90437c-2190-4c83-a535-e283cf632826",
   "metadata": {},
   "source": [
    "## Delete debug infomation for kernel modules\n",
    "\n",
    "After the kernel modules installed, it turned out that the new modules occupied too much disk drive space."
   ]
  },
  {
   "cell_type": "code",
   "execution_count": 1,
   "id": "ccc674f9-7688-4287-8d40-5e294f5290ba",
   "metadata": {
    "tags": []
   },
   "outputs": [
    {
     "name": "stdout",
     "output_type": "stream",
     "text": [
      "603M\t/lib/modules/5.19.0-32-generic\n",
      "604M\t/lib/modules/5.19.0-41-generic\n",
      "6.0G\t/lib/modules/6.2.0\n"
     ]
    }
   ],
   "source": [
    "du -sh /lib/modules/*"
   ]
  },
  {
   "cell_type": "code",
   "execution_count": 3,
   "id": "e95da958-e634-4d85-a95b-0f6c78903300",
   "metadata": {
    "tags": []
   },
   "outputs": [
    {
     "name": "stdout",
     "output_type": "stream",
     "text": [
      "/lib/modules/5.19.0-41-generic/kernel/fs/btrfs/btrfs.ko: ELF 64-bit LSB relocatable, x86-64, version 1 (SYSV), BuildID[sha1]=0e2afdf8bcd0fe6a6e39ae89795f923156aa5565, not stripped\n",
      "/lib/modules/6.2.0/kernel/fs/btrfs/btrfs.ko:             ELF 64-bit LSB relocatable, x86-64, version 1 (SYSV), BuildID[sha1]=d8002917f3a35a364ae485d767c07d99652271b8, with debug_info, not stripped\n",
      "-rw-r--r-- 1 root root 3.1M Apr 18 23:38 /lib/modules/5.19.0-41-generic/kernel/fs/btrfs/btrfs.ko\n",
      "-rw-r--r-- 1 root root  35M May 11 00:18 /lib/modules/6.2.0/kernel/fs/btrfs/btrfs.ko\n"
     ]
    }
   ],
   "source": [
    "file /lib/modules/{5.19.0-41-generic,6.2.0}/kernel/fs/btrfs/btrfs.ko\n",
    "ls -lh /lib/modules/{5.19.0-41-generic,6.2.0}/kernel/fs/btrfs/btrfs.ko"
   ]
  },
  {
   "cell_type": "markdown",
   "id": "477ab475-7129-4ca1-b68b-b34e9427a806",
   "metadata": {},
   "source": [
    "From first command output above, we can see that the newly installed kernel '6.2.0' is more than 10 times larger the the preinstalled version. The next command outputs showed that, the module files in the new version is 'with debug_info', and that's the reason.\n",
    "\n",
    "Keep in mind that beyond the use of disk space, this is not as significant as it may appear. Debugging symbols are not loaded during normal runtime, so the actual size of each module in memory is probably identical regardless of the size of the .ko file.\n",
    "\n",
    "Anyway, if we want to minimize the use of disk space, the `strip` command:"
   ]
  },
  {
   "cell_type": "code",
   "execution_count": 4,
   "id": "63ceadf9-adae-4254-b9fe-06616ea5e66f",
   "metadata": {},
   "outputs": [],
   "source": [
    "strip --strip-all \"./fs/btrfs/btrfs.ko\" -o \"./fs/btrfs/btrfs.ko.stripped\""
   ]
  },
  {
   "cell_type": "code",
   "execution_count": 5,
   "id": "2c05e6cf-eb76-4808-b779-06aa6b398b01",
   "metadata": {
    "tags": []
   },
   "outputs": [
    {
     "name": "stdout",
     "output_type": "stream",
     "text": [
      "-rw-rw-r-- 1 clymber clymber  35M May 10 23:52 ./fs/btrfs/btrfs.ko\n",
      "-rw-rw-r-- 1 clymber clymber 1.5M May 11 14:50 ./fs/btrfs/btrfs.ko.stripped\n",
      "./fs/btrfs/btrfs.ko:          ELF 64-bit LSB relocatable, x86-64, version 1 (SYSV), BuildID[sha1]=d8002917f3a35a364ae485d767c07d99652271b8, with debug_info, not stripped\n",
      "./fs/btrfs/btrfs.ko.stripped: ELF 64-bit LSB relocatable, x86-64, version 1 (SYSV), BuildID[sha1]=d8002917f3a35a364ae485d767c07d99652271b8, stripped\n"
     ]
    }
   ],
   "source": [
    "ls -lh ./fs/btrfs/btrfs.ko{,.stripped}\n",
    "file ./fs/btrfs/btrfs.ko{,.stripped}"
   ]
  },
  {
   "cell_type": "markdown",
   "id": "25ce4339-2020-4716-88c9-a35ecada7d25",
   "metadata": {},
   "source": [
    "As showed above, the file size with its debug information stripped is much smaller the the original one.\n",
    "\n",
    "Alternatively, we can avoid the toiling stripping work during kernel modules installation, like: "
   ]
  },
  {
   "cell_type": "code",
   "execution_count": null,
   "id": "c087f80e-dd74-4f7b-a08b-3adc05362e8c",
   "metadata": {
    "tags": []
   },
   "outputs": [],
   "source": [
    "# DO NOT execute the follow command in jupyter notebook if not necessary,\n",
    "# it will consume large amount of memory and slow down the system.\n",
    "# Do it with the system shell terminal to have better performance.\n",
    "sudo make INSTALL_MOD_STRIP=1 modules_install"
   ]
  },
  {
   "cell_type": "code",
   "execution_count": 8,
   "id": "8e92baf7-0629-4d07-8284-f869f1f8d989",
   "metadata": {
    "tags": []
   },
   "outputs": [
    {
     "name": "stdout",
     "output_type": "stream",
     "text": [
      "603M\t/lib/modules/5.19.0-32-generic\n",
      "604M\t/lib/modules/5.19.0-41-generic\n",
      "467M\t/lib/modules/6.2.0\n"
     ]
    }
   ],
   "source": [
    "du -sh /lib/modules/*"
   ]
  },
  {
   "cell_type": "markdown",
   "id": "40b52cb2-c789-4bd6-ab43-9e956dd404b8",
   "metadata": {},
   "source": [
    "After stripped, the disk space consumed by the new kernel is significantly smaller, from 6 GB to 467 M!"
   ]
  },
  {
   "cell_type": "markdown",
   "id": "546056be-118d-49ce-8b2a-12600f5a936b",
   "metadata": {},
   "source": [
    "## Update the Bootloader (Optional)\n",
    "\n",
    "The GRUB bootloader is the first program that runs when the system powers on.  \n",
    "The make install command performs this process automatically, but you can also do it manually.\n",
    "\n",
    "### 1. Update the initramfs to the installed kernel version:"
   ]
  },
  {
   "cell_type": "code",
   "execution_count": 6,
   "id": "3176f6b6-d507-47b1-9052-d9dc6565e91d",
   "metadata": {
    "scrolled": true,
    "tags": []
   },
   "outputs": [
    {
     "name": "stdout",
     "output_type": "stream",
     "text": [
      "update-initramfs: Generating /boot/initrd.img-6.2.0\n",
      "I: The initramfs will attempt to resume from /dev/sda2\n",
      "I: (UUID=3bef089a-1f68-482e-9ba3-9c51d70e3d07)\n",
      "I: Set the RESUME variable to override this.\n"
     ]
    }
   ],
   "source": [
    "sudo update-initramfs -c -k 6.2.0"
   ]
  },
  {
   "cell_type": "markdown",
   "id": "884925c1-ffba-4014-830a-2f73f7b381bf",
   "metadata": {},
   "source": [
    "### 2. Update the GRUB bootloader with this command:"
   ]
  },
  {
   "cell_type": "code",
   "execution_count": 7,
   "id": "dc51e7b5-2e8a-4207-9c79-60e60f797f3f",
   "metadata": {
    "tags": []
   },
   "outputs": [
    {
     "name": "stdout",
     "output_type": "stream",
     "text": [
      "Sourcing file `/etc/default/grub'\n",
      "Sourcing file `/etc/default/grub.d/init-select.cfg'\n",
      "Generating grub configuration file ...\n",
      "Found linux image: /boot/vmlinuz-6.2.0\n",
      "Found initrd image: /boot/initrd.img-6.2.0\n",
      "Found linux image: /boot/vmlinuz-5.19.0-41-generic\n",
      "Found initrd image: /boot/initrd.img-5.19.0-41-generic\n",
      "Found linux image: /boot/vmlinuz-5.19.0-32-generic\n",
      "Found initrd image: /boot/initrd.img-5.19.0-32-generic\n",
      "Memtest86+ needs a 16-bit boot, that is not available on EFI, exiting\n",
      "Warning: os-prober will not be executed to detect other bootable partitions.\n",
      "Systems on them will not be added to the GRUB boot configuration.\n",
      "Check GRUB_DISABLE_OS_PROBER documentation entry.\n",
      "Adding boot menu entry for UEFI Firmware Settings ...\n",
      "done\n"
     ]
    }
   ],
   "source": [
    "sudo update-grub"
   ]
  },
  {
   "cell_type": "markdown",
   "id": "75bf5417-ffb7-4bcc-9f3f-e2f1b33b87b6",
   "metadata": {},
   "source": [
    "## Reboot and Verify Kernel Version\n",
    "\n",
    "When you complete the steps above, reboot the machine.  \n",
    "When the system boots up, verify the kernel version using the uname command:"
   ]
  },
  {
   "cell_type": "code",
   "execution_count": 1,
   "id": "e38091af-437d-4255-8450-564d59447c4c",
   "metadata": {
    "tags": []
   },
   "outputs": [
    {
     "name": "stdout",
     "output_type": "stream",
     "text": [
      "Linux 6.2.0 x86_64\n"
     ]
    }
   ],
   "source": [
    "uname -mrs"
   ]
  }
 ],
 "metadata": {
  "kernelspec": {
   "display_name": "Bash",
   "language": "bash",
   "name": "bash"
  },
  "language_info": {
   "codemirror_mode": "shell",
   "file_extension": ".sh",
   "mimetype": "text/x-sh",
   "name": "bash"
  }
 },
 "nbformat": 4,
 "nbformat_minor": 5
}
